{
 "cells": [
  {
   "cell_type": "markdown",
   "metadata": {},
   "source": [
    "Римарович Павло, ФІТ, 4-4\n",
    "Варіант 22"
   ]
  },
  {
   "attachments": {},
   "cell_type": "markdown",
   "metadata": {},
   "source": [
    "Завдання 1. Створіть одновимірний масив (вектор) зі значеннями ex \n",
    "для кожного натурального числа x, починаючи з 1, та виведіть його значення. "
   ]
  },
  {
   "cell_type": "code",
   "execution_count": null,
   "metadata": {},
   "outputs": [],
   "source": [
    "import numpy as np\n",
    "\n",
    "# Створюємо масив з експонентами для натуральних чисел від 1 до n (наприклад, n = 10)\n",
    "n = 10\n",
    "x_values = np.arange(1, n + 1)\n",
    "\n",
    "# Обчислюємо e^x для кожного x\n",
    "exponential_values = np.exp(x_values)\n",
    "\n",
    "# Виводимо результат\n",
    "print(exponential_values)\n"
   ]
  },
  {
   "attachments": {},
   "cell_type": "markdown",
   "metadata": {},
   "source": [
    "Завдання 2.\n",
    "Створіть двовимірний масив (матрицю) розміром 3x3, заповніть його тангенсами кожного натурального числа, починаючи з 1, та виведіть його значення. "
   ]
  },
  {
   "cell_type": "code",
   "execution_count": null,
   "metadata": {},
   "outputs": [],
   "source": [
    "import numpy as np\n",
    "\n",
    "# Розмірність матриці\n",
    "n = 3\n",
    "\n",
    "# Створюємо матрицю, заповнюючи її тангенсами натуральних чисел\n",
    "matrix = np.empty((n, n))\n",
    "\n",
    "for i in range(n):\n",
    "    for j in range(n):\n",
    "        # Обчислюємо тангенс натурального числа (починаючи з 1)\n",
    "        tangent_value = np.tan(i * n + j + 1)\n",
    "        matrix[i, j] = tangent_value\n",
    "\n",
    "# Виводимо матрицю\n",
    "print(matrix)\n"
   ]
  },
  {
   "attachments": {},
   "cell_type": "markdown",
   "metadata": {},
   "source": [
    "Завдання 3.\n",
    "Створіть масив розміром 8x8, заповніть його випадковими дійсними числами від -1 до 1 та знайдіть відсоток від'ємних чисел серед всіх елементів. \n"
   ]
  },
  {
   "cell_type": "code",
   "execution_count": null,
   "metadata": {},
   "outputs": [],
   "source": [
    "import numpy as np\n",
    "\n",
    "# Розмірність матриці\n",
    "n = 8\n",
    "\n",
    "# Генеруємо масив випадкових дійсних чисел від -1 до 1 розміром 8x8\n",
    "matrix = np.random.uniform(-1, 1, (n, n))\n",
    "\n",
    "# Знаходимо кількість від'ємних чисел у матриці\n",
    "negative_count = np.sum(matrix < 0)\n",
    "\n",
    "# Знаходимо відсоток від'ємних чисел серед всіх елементів\n",
    "total_elements = n * n\n",
    "percentage_negative = (negative_count / total_elements) * 100\n",
    "\n",
    "# Виводимо матрицю та відсоток від'ємних чисел\n",
    "print(\"Матриця:\")\n",
    "print(matrix)\n",
    "print(f\"Відсоток від'ємних чисел: {percentage_negative:.2f}%\")\n"
   ]
  },
  {
   "attachments": {},
   "cell_type": "markdown",
   "metadata": {},
   "source": [
    "Завдання 4.\n",
    "Створіть масив розміром 4x4, заповніть його випадковими дійсними числами від -0.8 до 0.8 та виведіть його значення. "
   ]
  },
  {
   "cell_type": "code",
   "execution_count": null,
   "metadata": {},
   "outputs": [],
   "source": [
    "import numpy as np\n",
    "\n",
    "# Розмірність матриці\n",
    "n = 4\n",
    "\n",
    "# Генеруємо масив випадкових дійсних чисел від -0.8 до 0.8 розміром 4x4\n",
    "matrix = np.random.uniform(-0.8, 0.8, (n, n))\n",
    "\n",
    "# Виводимо матрицю\n",
    "print(matrix)\n"
   ]
  },
  {
   "attachments": {},
   "cell_type": "markdown",
   "metadata": {},
   "source": [
    "Завдання 5.\n",
    "Створіть два одновимірних масиви розміром 6, заповніть їх випадковими цілими числами в діапазоні від 5 до 15 та виконайте на них поелементні операції додавання, віднімання та множення. "
   ]
  },
  {
   "cell_type": "code",
   "execution_count": null,
   "metadata": {},
   "outputs": [],
   "source": [
    "import numpy as np\n",
    "\n",
    "# Розмірність масивів\n",
    "n = 6\n",
    "\n",
    "# Генеруємо два масиви з випадковими цілими числами від 5 до 15\n",
    "array1 = np.random.randint(5, 16, n)\n",
    "array2 = np.random.randint(5, 16, n)\n",
    "\n",
    "# Виводимо створені масиви\n",
    "print(\"Масив 1:\", array1)\n",
    "print(\"Масив 2:\", array2)\n",
    "\n",
    "# Виконуємо поелементні операції додавання, віднімання та множення\n",
    "addition_result = array1 + array2\n",
    "subtraction_result = array1 - array2\n",
    "multiplication_result = array1 * array2\n",
    "\n",
    "# Виводимо результати операцій\n",
    "print(\"Результат додавання:\", addition_result)\n",
    "print(\"Результат віднімання:\", subtraction_result)\n",
    "print(\"Результат множення:\", multiplication_result)\n"
   ]
  },
  {
   "cell_type": "markdown",
   "metadata": {},
   "source": [
    "Завдання 6. Створіть два вектори розміром 7, заповніть їх довільними цілими числами та знайдіть їх скалярний добуток."
   ]
  },
  {
   "cell_type": "code",
   "execution_count": null,
   "metadata": {},
   "outputs": [],
   "source": [
    "import numpy as np\n",
    "\n",
    "# Створюємо два вектори розміром 7 з рандомними цілими числами в певному діапазоні\n",
    "vector1 = np.random.randint(-10, 10, 7)\n",
    "vector2 = np.random.randint(-10, 10, 7)\n",
    "\n",
    "# Обчислюємо скалярний добуток\n",
    "scalar_product = np.dot(vector1, vector2)\n",
    "\n",
    "# Виводимо результат\n",
    "print(\"Вектор 1:\", vector1)\n",
    "print(\"Вектор 2:\", vector2)\n",
    "print(\"Скалярний добуток:\", scalar_product)\n"
   ]
  },
  {
   "cell_type": "markdown",
   "metadata": {},
   "source": [
    "Завдання 7. Створіть дві матриці розміром 3x2 та 2x2, заповніть їх випадковими цілими числами в діапазоні від 1 до 8 та перемножте їх між собою. \n"
   ]
  },
  {
   "cell_type": "code",
   "execution_count": null,
   "metadata": {},
   "outputs": [],
   "source": [
    "import numpy as np\n",
    "\n",
    "# Розмірність першої матриці (3x2)\n",
    "n1, m1 = 3, 2\n",
    "\n",
    "# Розмірність другої матриці (2x2)\n",
    "n2, m2 = 2, 2\n",
    "\n",
    "# Генеруємо першу матрицю розміром 3x2 з рандомними цілими числами від 1 до 8\n",
    "matrix1 = np.random.randint(1, 9, (n1, m1))\n",
    "\n",
    "# Генеруємо другу матрицю розміром 2x2 з рандомними цілими числами від 1 до 8\n",
    "matrix2 = np.random.randint(1, 9, (n2, m2))\n",
    "\n",
    "# Виводимо обидві матриці\n",
    "print(\"Перша матриця:\")\n",
    "print(matrix1)\n",
    "print(\"Друга матриця:\")\n",
    "print(matrix2)\n",
    "\n",
    "# Перемножуємо матриці\n",
    "result_matrix = np.dot(matrix1, matrix2)\n",
    "\n",
    "# Виводимо результат перемноження\n",
    "print(\"Результат перемноження матриць:\")\n",
    "print(result_matrix)\n"
   ]
  },
  {
   "cell_type": "markdown",
   "metadata": {},
   "source": [
    "Завдання 8. Створіть матрицю розміром 3x3, заповніть її випадковими цілими числами в діапазоні від 1 до 8 та знайдіть її обернену матрицю.  \n"
   ]
  },
  {
   "cell_type": "code",
   "execution_count": null,
   "metadata": {},
   "outputs": [],
   "source": [
    "import numpy as np\n",
    "\n",
    "# Розмірність матриці\n",
    "n = 3\n",
    "\n",
    "# Генеруємо матрицю розміром 3x3 з рандомними цілими числами від 1 до 8\n",
    "matrix = np.random.randint(1, 9, (n, n))\n",
    "\n",
    "# Виводимо початкову матрицю\n",
    "print(\"Початкова матриця:\")\n",
    "print(matrix)\n",
    "\n",
    "# Знаходимо обернену матрицю\n",
    "try:\n",
    "    inverse_matrix = np.linalg.inv(matrix)\n",
    "    print(\"Обернена матриця:\")\n",
    "    print(inverse_matrix)\n",
    "except np.linalg.LinAlgError:\n",
    "    print(\"Матриця не має оберненої матриці, оскільки вона є сингулярною.\")\n"
   ]
  },
  {
   "cell_type": "markdown",
   "metadata": {},
   "source": [
    "Завдання 9. Створіть матрицю розміром 4x4, заповніть її випадковими дійсними числами в діапазоні від -1 до 1 та транспонуйте її. "
   ]
  },
  {
   "cell_type": "code",
   "execution_count": null,
   "metadata": {},
   "outputs": [],
   "source": [
    "import numpy as np\n",
    "\n",
    "# Розмірність матриці\n",
    "n = 4\n",
    "\n",
    "# Генеруємо матрицю розміром 4x4 з рандомними дійсними числами від -1 до 1\n",
    "matrix = np.random.uniform(-1, 1, (n, n))\n",
    "\n",
    "# Виводимо початкову матрицю\n",
    "print(\"Початкова матриця:\")\n",
    "print(matrix)\n",
    "\n",
    "# Транспонуємо матрицю\n",
    "transposed_matrix = np.transpose(matrix)\n",
    "\n",
    "# Виводимо транспоновану матрицю\n",
    "print(\"Транспонована матриця:\")\n",
    "print(transposed_matrix)\n"
   ]
  },
  {
   "cell_type": "markdown",
   "metadata": {},
   "source": [
    "Завдання 10. Створіть матрицю розміром 3x4 та вектор розміром 4, заповніть матрицю випадковими дійсними числами від 0 до 1, а вектор - випадковими цілими числами в діапазоні від 1 до 10, і знайдіть суму добутків елементів кожного стовпця матриці на відповідний елемент вектору. "
   ]
  },
  {
   "cell_type": "code",
   "execution_count": null,
   "metadata": {},
   "outputs": [],
   "source": [
    "import numpy as np\n",
    "\n",
    "# Розмірність матриці\n",
    "n, m = 3, 4\n",
    "\n",
    "# Генеруємо матрицю розміром 3x4 з випадковими дійсними числами від 0 до 1\n",
    "matrix = np.random.uniform(0, 1, (n, m))\n",
    "\n",
    "# Генеруємо вектор розміром 4 з випадковими цілими числами від 1 до 10\n",
    "vector = np.random.randint(1, 11, m)\n",
    "\n",
    "# Виводимо матрицю та вектор\n",
    "print(\"Матриця:\")\n",
    "print(matrix)\n",
    "print(\"Вектор:\")\n",
    "print(vector)\n",
    "\n",
    "# Обчислюємо суму добутків елементів кожного стовпця матриці на відповідний елемент вектору\n",
    "result = np.sum(matrix * vector, axis=0)\n",
    "\n",
    "# Виводимо результат\n",
    "print(\"Сума добутків елементів кожного стовпця на відповідний елемент вектору:\")\n",
    "print(result)\n"
   ]
  },
  {
   "cell_type": "markdown",
   "metadata": {},
   "source": [
    "Завдання 11. Створіть матрицю розміром 2x3 та вектор розміром 3, заповніть матрицю випадковими цілими числами в діапазоні від 1 до 10, а вектор - випадковими дійсними числами від 0 до 1, і знайдіть суму добутків елементів кожного стовпця матриці на відповідний елемент вектору."
   ]
  },
  {
   "cell_type": "code",
   "execution_count": null,
   "metadata": {},
   "outputs": [],
   "source": [
    "import numpy as np\n",
    "\n",
    "# Розмірність матриці\n",
    "n, m = 2, 3\n",
    "\n",
    "# Генеруємо матрицю розміром 2x3 з випадковими цілими числами від 1 до 10\n",
    "matrix = np.random.randint(1, 11, (n, m))\n",
    "\n",
    "# Генеруємо вектор розміром 3 з випадковими дійсними числами від 0 до 1\n",
    "vector = np.random.uniform(0, 1, m)\n",
    "\n",
    "# Виводимо матрицю та вектор\n",
    "print(\"Матриця:\")\n",
    "print(matrix)\n",
    "print(\"Вектор:\")\n",
    "print(vector)\n",
    "\n",
    "# Обчислюємо суму добутків елементів кожного стовпця матриці на відповідний елемент вектору\n",
    "result = np.sum(matrix * vector, axis=1)\n",
    "\n",
    "# Виводимо результат\n",
    "print(\"Сума добутків елементів кожного стовпця на відповідний елемент вектору:\")\n",
    "print(result)\n"
   ]
  },
  {
   "cell_type": "markdown",
   "metadata": {},
   "source": [
    "Завдання 12. Створіть дві матриці розміром 7x7, заповніть їх випадковими цілими числами в діапазоні від 1 до 10 та знайдіть суму всіх елементів другої матриці. "
   ]
  },
  {
   "cell_type": "code",
   "execution_count": null,
   "metadata": {},
   "outputs": [],
   "source": [
    "import numpy as np\n",
    "\n",
    "# Розмірність матриць\n",
    "n = 7\n",
    "\n",
    "# Генеруємо дві матриці розміром 7x7 з рандомними цілими числами від 1 до 10\n",
    "matrix1 = np.random.randint(1, 11, (n, n))\n",
    "matrix2 = np.random.randint(1, 11, (n, n))\n",
    "\n",
    "# Виводимо обидві матриці\n",
    "print(\"Перша матриця:\")\n",
    "print(matrix1)\n",
    "print(\"Друга матриця:\")\n",
    "print(matrix2)\n",
    "\n",
    "# Обчислюємо суму всіх елементів другої матриці\n",
    "sum_of_elements = np.sum(matrix2)\n",
    "\n",
    "# Виводимо результат\n",
    "print(\"Сума всіх елементів другої матриці:\", sum_of_elements)\n"
   ]
  },
  {
   "cell_type": "markdown",
   "metadata": {},
   "source": [
    "Завдання 13. Створіть дві матриці розміром 6x6, заповніть їх випадковими цілими числами в діапазоні від 1 до 10 та знайдіть суму їх елементів. "
   ]
  },
  {
   "cell_type": "code",
   "execution_count": null,
   "metadata": {},
   "outputs": [],
   "source": [
    "import numpy as np\n",
    "\n",
    "# Розмірність матриць\n",
    "n = 6\n",
    "\n",
    "# Генеруємо дві матриці розміром 6x6 з рандомними цілими числами від 1 до 10\n",
    "matrix1 = np.random.randint(1, 11, (n, n))\n",
    "matrix2 = np.random.randint(1, 11, (n, n))\n",
    "\n",
    "# Виводимо обидві матриці\n",
    "print(\"Перша матриця:\")\n",
    "print(matrix1)\n",
    "print(\"Друга матриця:\")\n",
    "print(matrix2)\n",
    "\n",
    "# Обчислюємо суму всіх елементів обох матриць\n",
    "sum_of_elements = np.sum(matrix1) + np.sum(matrix2)\n",
    "\n",
    "# Виводимо результат\n",
    "print(\"Сума всіх елементів обох матриць:\", sum_of_elements)\n"
   ]
  },
  {
   "cell_type": "markdown",
   "metadata": {},
   "source": [
    "Завдання 14. Створіть матрицю розміром 8x8, заповніть її випадковими цілими числами в діапазоні від 1 до 100 та знайдіть суму елементів на головній діагоналі. "
   ]
  },
  {
   "cell_type": "code",
   "execution_count": null,
   "metadata": {},
   "outputs": [],
   "source": [
    "import numpy as np\n",
    "\n",
    "# Розмірність матриці\n",
    "n = 8\n",
    "\n",
    "# Генеруємо матрицю розміром 8x8 з рандомними цілими числами від 1 до 100\n",
    "matrix = np.random.randint(1, 101, (n, n))\n",
    "\n",
    "# Виводимо матрицю\n",
    "print(\"Матриця:\")\n",
    "print(matrix)\n",
    "\n",
    "# Обчислюємо суму елементів на головній діагоналі\n",
    "diagonal_sum = np.trace(matrix)\n",
    "\n",
    "# Виводимо результат\n",
    "print(\"Сума елементів на головній діагоналі:\", diagonal_sum)\n"
   ]
  },
  {
   "cell_type": "markdown",
   "metadata": {},
   "source": [
    "Завдання 15. Створіть матрицю розміром 8x8, заповніть її випадковими дійсними числами в діапазоні від -1 до 1 та знайдіть вектор-стовпчик, що містить добуток елементів кожного стовпця матриці. "
   ]
  },
  {
   "cell_type": "code",
   "execution_count": null,
   "metadata": {},
   "outputs": [],
   "source": [
    "import numpy as np\n",
    "\n",
    "# Розмірність матриці\n",
    "n = 8\n",
    "\n",
    "# Генеруємо матрицю розміром 8x8 з рандомними дійсними числами від -1 до 1\n",
    "matrix = np.random.uniform(-1, 1, (n, n))\n",
    "\n",
    "# Виводимо матрицю\n",
    "print(\"Матриця:\")\n",
    "print(matrix)\n",
    "\n",
    "# Обчислюємо вектор-стовпчик, що містить добуток елементів кожного стовпця матриці\n",
    "column_product_vector = np.prod(matrix, axis=0)\n",
    "\n",
    "# Виводимо результат\n",
    "print(\"Вектор-стовпчик з добутками елементів кожного стовпця:\")\n",
    "print(column_product_vector)\n"
   ]
  },
  {
   "cell_type": "markdown",
   "metadata": {},
   "source": [
    "Висновок:\n",
    "При виконанні даної практичної роботи я використовував мову програмування Python та бібліотеку NumPy для створення матриць та векторів і виконання різних математичних операцій. Також заповнював їх випадковими числами та обчислював суми, добутки та інші операції з їхніми елементами."
   ]
  }
 ],
 "metadata": {
  "kernelspec": {
   "display_name": "Python 3",
   "language": "python",
   "name": "python3"
  },
  "language_info": {
   "codemirror_mode": {
    "name": "ipython",
    "version": 3
   },
   "file_extension": ".py",
   "mimetype": "text/x-python",
   "name": "python",
   "nbconvert_exporter": "python",
   "pygments_lexer": "ipython3",
   "version": "3.11.5"
  },
  "orig_nbformat": 4,
  "vscode": {
   "interpreter": {
    "hash": "369f2c481f4da34e4445cda3fffd2e751bd1c4d706f27375911949ba6bb62e1c"
   }
  }
 },
 "nbformat": 4,
 "nbformat_minor": 2
}
