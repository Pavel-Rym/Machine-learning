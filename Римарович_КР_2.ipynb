{
 "cells": [
  {
   "cell_type": "code",
   "execution_count": 1,
   "metadata": {},
   "outputs": [],
   "source": [
    "import pandas as pd\n",
    "from surprise import Dataset, Reader\n",
    "from surprise.model_selection import cross_validate\n",
    "from surprise import SVD, SVDpp\n",
    "import matplotlib.pyplot as plt"
   ]
  },
  {
   "cell_type": "code",
   "execution_count": 2,
   "metadata": {},
   "outputs": [],
   "source": [
    "# Визначення reader для бібліотеки Surprise\n",
    "reader = Reader(line_format='user item rating timestamp', sep='\\t', rating_scale=(1, 5))"
   ]
  },
  {
   "cell_type": "code",
   "execution_count": 3,
   "metadata": {},
   "outputs": [],
   "source": [
    "# Завантаження датасету за допомогою reader\n",
    "data = Dataset.load_from_file('./ml-100k/u.data', reader=reader)"
   ]
  },
  {
   "cell_type": "code",
   "execution_count": 4,
   "metadata": {},
   "outputs": [],
   "source": [
    "# Визначення алгоритмів\n",
    "svd_algorithm = SVD()\n",
    "svdpp_algorithm = SVDpp()"
   ]
  },
  {
   "cell_type": "code",
   "execution_count": 5,
   "metadata": {},
   "outputs": [
    {
     "name": "stdout",
     "output_type": "stream",
     "text": [
      "Evaluating RMSE of algorithm SVD on 5 split(s).\n",
      "\n",
      "                  Fold 1  Fold 2  Fold 3  Fold 4  Fold 5  Mean    Std     \n",
      "RMSE (testset)    0.9279  0.9328  0.9403  0.9363  0.9386  0.9352  0.0044  \n",
      "Fit time          2.27    1.08    1.09    1.09    1.16    1.34    0.47    \n",
      "Test time         0.32    0.17    0.11    0.17    0.27    0.21    0.08    \n"
     ]
    }
   ],
   "source": [
    "# Виконання крос-валідації для SVD\n",
    "svd_cv_results = cross_validate(svd_algorithm, data, measures=['RMSE'], cv=5, verbose=True)"
   ]
  },
  {
   "cell_type": "code",
   "execution_count": 6,
   "metadata": {},
   "outputs": [
    {
     "name": "stdout",
     "output_type": "stream",
     "text": [
      "Evaluating RMSE of algorithm SVDpp on 5 split(s).\n",
      "\n",
      "                  Fold 1  Fold 2  Fold 3  Fold 4  Fold 5  Mean    Std     \n",
      "RMSE (testset)    0.9226  0.9127  0.9131  0.9259  0.9176  0.9184  0.0052  \n",
      "Fit time          24.50   18.56   18.08   18.50   29.93   21.92   4.66    \n",
      "Test time         3.53    3.63    3.73    3.54    6.63    4.21    1.21    \n"
     ]
    }
   ],
   "source": [
    "# Виконання крос-валідації для SVDpp\n",
    "svdpp_cv_results = cross_validate(svdpp_algorithm, data, measures=['RMSE'], cv=5, verbose=True)"
   ]
  },
  {
   "cell_type": "code",
   "execution_count": 7,
   "metadata": {},
   "outputs": [],
   "source": [
    "# Обчислення середнього RMSE для кожного алгоритму\n",
    "avg_rmse_svd = svd_cv_results['test_rmse'].mean()\n",
    "avg_rmse_svdpp = svdpp_cv_results['test_rmse'].mean()"
   ]
  },
  {
   "cell_type": "code",
   "execution_count": 8,
   "metadata": {},
   "outputs": [
    {
     "name": "stdout",
     "output_type": "stream",
     "text": [
      "Average RMSE for SVD: 0.9351734317442769\n",
      "Average RMSE for SVDpp: 0.9183817921157112\n"
     ]
    }
   ],
   "source": [
    "# Виведення середнього RMSE\n",
    "print(f'Average RMSE for SVD: {avg_rmse_svd}')\n",
    "print(f'Average RMSE for SVDpp: {avg_rmse_svdpp}')"
   ]
  },
  {
   "cell_type": "code",
   "execution_count": 9,
   "metadata": {},
   "outputs": [
    {
     "data": {
      "image/png": "[encoded data removed]",
      "text/plain": [
       "<Figure size 640x480 with 1 Axes>"
      ]
     },
     "metadata": {},
     "output_type": "display_data"
    },
    {
     "name": "stdout",
     "output_type": "stream",
     "text": [
      "SVDpp is the optimal algorithm.\n"
     ]
    }
   ],
   "source": [
    "# Візуалізація результатів\n",
    "plt.bar(['SVD', 'SVDpp'], [avg_rmse_svd, avg_rmse_svdpp])\n",
    "plt.title('Average RMSE for Different Algorithms')\n",
    "plt.xlabel('Algorithm')\n",
    "plt.ylabel('Average RMSE')\n",
    "plt.show()\n",
    "\n",
    "if avg_rmse_svd < avg_rmse_svdpp:\n",
    "    print('SVD is the optimal algorithm.')\n",
    "else:\n",
    "    print('SVDpp is the optimal algorithm.')"
   ]
  },
  {
   "cell_type": "markdown",
   "metadata": {},
   "source": [
    "Висновок - для даного датасету алгоритм SVDpp виявився більш оптимальним (з невеликою різницею)"
   ]
  }
 ],
 "metadata": {
  "kernelspec": {
   "display_name": "Python 3",
   "language": "python",
   "name": "python3"
  },
  "language_info": {
   "codemirror_mode": {
    "name": "ipython",
    "version": 3
   },
   "file_extension": ".py",
   "mimetype": "text/x-python",
   "name": "python",
   "nbconvert_exporter": "python",
   "pygments_lexer": "ipython3",
   "version": "3.11.6"
  }
 },
 "nbformat": 4,
 "nbformat_minor": 2
}
