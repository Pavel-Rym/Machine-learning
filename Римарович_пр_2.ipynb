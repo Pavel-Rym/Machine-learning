{
 "cells": [
  {
   "cell_type": "markdown",
   "metadata": {},
   "source": [
    "Римарович Павло, ФІТ, 4-4\n",
    "Варіант 22"
   ]
  },
  {
   "cell_type": "markdown",
   "metadata": {},
   "source": [
    "Завдання 1. Виведіть перші 5 рядків таблиці. "
   ]
  },
  {
   "cell_type": "code",
   "execution_count": 79,
   "metadata": {},
   "outputs": [
    {
     "name": "stdout",
     "output_type": "stream",
     "text": [
      "    Рік В національній валюті В доларах США  \\\n",
      "0  1992              5832,88▲        28,04▼   \n",
      "1  1993               163533▲        36,03▲   \n",
      "2  1994              1426343▲        44,99▲   \n",
      "3  1995              7304000▲        49,53▲   \n",
      "4  1996               125,23▼        68,45▲   \n",
      "\n",
      "  Кількість кг хліба[20] на середню зарплату  \\\n",
      "0                                   1015,67▲   \n",
      "1                                    430,42▼   \n",
      "2                                    372,76▼   \n",
      "3                                    201,76▼   \n",
      "4                                    198,62▼   \n",
      "\n",
      "  Кількість БігМаків на середню зарплату  \n",
      "0                                      —  \n",
      "1                                      —  \n",
      "2                                      —  \n",
      "3                                      —  \n",
      "4                                      —  \n"
     ]
    }
   ],
   "source": [
    "import pandas as pd \n",
    "\n",
    "import numpy as np \n",
    "\n",
    "# Зчитуємо дані з вказаного URL \n",
    "url = \"https://uk.wikipedia.org/wiki/%D0%A1%D0%B5%D1%80%D0%B5%D0%B4%D0%BD%D1%8F_%D0%B7%D0%B0%D1%80%D0%BE%D0%B1%D1%96%D1%82%D0%BD%D0%B0_%D0%BF%D0%BB%D0%B0%D1%82%D0%B0_%D0%B2_%D0%A3%D0%BA%D1%80%D0%B0%D1%97%D0%BD%D1%96\" \n",
    "\n",
    "# Зчитуємо таблицю в DataFrame \n",
    "data = pd.read_html(url, header=0)[2]  # Обираємо другий елемент списку, де знаходиться таблиця \n",
    "\n",
    "df_1 = data.head(5) \n",
    "\n",
    "# Виводимо перші 5 рядків таблиці \n",
    "print(df_1) "
   ]
  },
  {
   "cell_type": "markdown",
   "metadata": {},
   "source": [
    "Завдання 2. Визначте кількість рядків і стовпчиків за допомогою атрибуту shape."
   ]
  },
  {
   "cell_type": "code",
   "execution_count": 80,
   "metadata": {},
   "outputs": [
    {
     "name": "stdout",
     "output_type": "stream",
     "text": [
      "Кількість рядків: 32, кількість стовпчиків: 5\n"
     ]
    }
   ],
   "source": [
    "\n",
    "# Визначаємо кількість рядків і стовпчиків всієї таблиці\n",
    "total_rows, total_columns = data.shape\n",
    "print(f\"Кількість рядків: {total_rows}, кількість стовпчиків: {total_columns}\")"
   ]
  },
  {
   "cell_type": "markdown",
   "metadata": {},
   "source": [
    "Завдання 3. Визначте загальну кількість років та кількість місяців у даних. "
   ]
  },
  {
   "cell_type": "code",
   "execution_count": 81,
   "metadata": {},
   "outputs": [
    {
     "name": "stdout",
     "output_type": "stream",
     "text": [
      "Загальна кількість років: 32, загальна кількість місяців: 384\n"
     ]
    }
   ],
   "source": [
    "# Визначаємо кількість унікальних значень у стовпці \"Рік\"\n",
    "total_years = data['Рік'].nunique()\n",
    "\n",
    "# Визначаємо кількість унікальних значень у стовпці \"Місяць\"\n",
    "total_months = total_years*12\n",
    "\n",
    "print(f\"Загальна кількість років: {total_years}, загальна кількість місяців: {total_months}\")"
   ]
  },
  {
   "cell_type": "markdown",
   "metadata": {},
   "source": [
    "Завдання 4. Замінити пропущені значення  «-» в таблиці на NaN "
   ]
  },
  {
   "cell_type": "code",
   "execution_count": 82,
   "metadata": {},
   "outputs": [],
   "source": [
    "data.replace(\"-\", np.nan, inplace=True)"
   ]
  },
  {
   "cell_type": "markdown",
   "metadata": {},
   "source": [
    "Завдання 5. Визначити тип стовпців за допомогою dtypes. "
   ]
  },
  {
   "cell_type": "code",
   "execution_count": 83,
   "metadata": {},
   "outputs": [
    {
     "name": "stdout",
     "output_type": "stream",
     "text": [
      "Рік                                           object\n",
      "В національній валюті                         object\n",
      "В доларах США                                 object\n",
      "Кількість кг хліба[20] на середню зарплату    object\n",
      "Кількість БігМаків на середню зарплату        object\n",
      "dtype: object\n"
     ]
    }
   ],
   "source": [
    "# Визначаємо типи стовпців\n",
    "column_types = data.dtypes\n",
    "print(column_types)"
   ]
  },
  {
   "cell_type": "markdown",
   "metadata": {},
   "source": [
    "Завдання 6. Видаліть передостанній і останній стовпчики ( Кількість кгхліба[20] на середнюзарплату,  Кільксть БігМаків на середню зарплату). Далі працюйте з оновленою таблицею.  "
   ]
  },
  {
   "cell_type": "code",
   "execution_count": 84,
   "metadata": {},
   "outputs": [],
   "source": [
    "data.drop(data.columns[-2:], axis=1, inplace=True)"
   ]
  },
  {
   "cell_type": "markdown",
   "metadata": {},
   "source": [
    "Завдання 7. Замінити тип нечислових даних на числові. "
   ]
  },
  {
   "cell_type": "code",
   "execution_count": 85,
   "metadata": {},
   "outputs": [],
   "source": [
    "# Перевірка, чи можливо конвертувати значення в числовий тип\n",
    "for column in data.columns:\n",
    "    if data[column].dtype == object:  # Перевіряємо чи тип даних є \"object\" (строка)\n",
    "        try:\n",
    "            data[column] = data[column].str.replace(',', '.')\n",
    "            data[column] = data[column].str.replace('*', '')\n",
    "            data[column] = data[column].str.replace('▼', '')\n",
    "            data[column] = data[column].str.replace('▲', '')\n",
    "            data[column] = pd.to_numeric(data[column])\n",
    "        except ValueError as e:\n",
    "            print(f\"Не вдалося конвертувати стовпець {column} в числовий тип: {e}\")"
   ]
  },
  {
   "cell_type": "markdown",
   "metadata": {},
   "source": [
    "Завдання 8. Порахуйте частку пропусків в кожній колонці (за допомогою методів isnull , sum, len) "
   ]
  },
  {
   "cell_type": "code",
   "execution_count": 86,
   "metadata": {},
   "outputs": [
    {
     "name": "stdout",
     "output_type": "stream",
     "text": [
      "Рік                      0.0\n",
      "В національній валюті    0.0\n",
      "В доларах США            0.0\n",
      "dtype: float64\n"
     ]
    }
   ],
   "source": [
    "# Порахунок пропусків для кожного стовпця\n",
    "missing_ratios = data.isnull().sum() / len(df_1)\n",
    "\n",
    "# Вивід частки пропусків для кожного стовпця\n",
    "print(missing_ratios)"
   ]
  },
  {
   "cell_type": "markdown",
   "metadata": {},
   "source": [
    "Завдання 9. Замініть всі пропущені значення на середні значення по (стовпцю). "
   ]
  },
  {
   "cell_type": "code",
   "execution_count": 87,
   "metadata": {},
   "outputs": [],
   "source": [
    "# Заміна пропущених значень на середнє\n",
    "data.fillna(data.mean(numeric_only=True), inplace=True)"
   ]
  },
  {
   "cell_type": "markdown",
   "metadata": {},
   "source": [
    "Завдання 10. Знайдіть рік з найвищою зарплатою в Україні в грн і вкажіть цю зарплату.  "
   ]
  },
  {
   "cell_type": "code",
   "execution_count": 88,
   "metadata": {},
   "outputs": [
    {
     "name": "stdout",
     "output_type": "stream",
     "text": [
      "Рік з найвищою зарплатою: 3, Зарплата: 7304000.0 грн\n"
     ]
    }
   ],
   "source": [
    "# Знайдемо рік з найвищою зарплатою\n",
    "highest_salary_year = data['В національній валюті'].idxmax()\n",
    "highest_salary = data.loc[highest_salary_year, 'В національній валюті']\n",
    "\n",
    "print(f\"Рік з найвищою зарплатою: {highest_salary_year}, Зарплата: {highest_salary} грн\")"
   ]
  },
  {
   "cell_type": "markdown",
   "metadata": {},
   "source": [
    "Завдання 11. Знайдіть рік з мінімальною  зарплатою в Україні в дол. США і вкажіть цю зарплату. "
   ]
  },
  {
   "cell_type": "code",
   "execution_count": 89,
   "metadata": {},
   "outputs": [
    {
     "name": "stdout",
     "output_type": "stream",
     "text": [
      "Рік з мінімальною зарплатою в доларах США: 1996, Зарплата: 4.638148148148148 USD\n"
     ]
    }
   ],
   "source": [
    "# Заміна пропущених значень на середнє\n",
    "data.fillna(data.mean(numeric_only=True), inplace=True)\n",
    "\n",
    "# Конвертація валюти з гривень в долари США (припустимо, що курс 1 долар = 27 гривень)\n",
    "data['В доларах США'] = data['В національній валюті'] / 27\n",
    "\n",
    "# Знайдемо рік з мінімальною зарплатою в доларах США\n",
    "lowest_salary_id = data['В доларах США'].idxmin()\n",
    "lowest_salary_year = data.loc[lowest_salary_id, 'Рік']\n",
    "lowest_salary = data.loc[lowest_salary_id, 'В доларах США']\n",
    "\n",
    "print(f\"Рік з мінімальною зарплатою в доларах США: {lowest_salary_year}, Зарплата: {lowest_salary} USD\")"
   ]
  },
  {
   "cell_type": "markdown",
   "metadata": {},
   "source": [
    "Завдання 12. Виведіть роки, коли зарплата в грн була вище середньої "
   ]
  },
  {
   "cell_type": "code",
   "execution_count": 90,
   "metadata": {},
   "outputs": [
    {
     "name": "stdout",
     "output_type": "stream",
     "text": [
      "Роки, коли зарплата в гривнях була вище середньої:\n",
      "2    1994\n",
      "3    1995\n",
      "Name: Рік, dtype: int64\n"
     ]
    }
   ],
   "source": [
    "# Розрахунок середньої зарплати в гривнях\n",
    "average_salary = data['В національній валюті'].mean()\n",
    "\n",
    "# Вибір років, де зарплата в гривнях була вище середньої\n",
    "years_above_average = data[data['В національній валюті'] > average_salary]['Рік']\n",
    "\n",
    "print(f\"Роки, коли зарплата в гривнях була вище середньої:\")\n",
    "print(years_above_average)"
   ]
  },
  {
   "cell_type": "markdown",
   "metadata": {},
   "source": [
    "Завдання 13. Створіть графік, що відображає  зарплату в Україні з часом (за роками). "
   ]
  },
  {
   "cell_type": "code",
   "execution_count": 93,
   "metadata": {},
   "outputs": [
    {
     "data": {
      "image/png": "[encoded data removed]",
      "text/plain": [
       "<Figure size 1000x600 with 1 Axes>"
      ]
     },
     "metadata": {},
     "output_type": "display_data"
    }
   ],
   "source": [
    "import matplotlib.pyplot as plt\n",
    "\n",
    "# Створення графіку\n",
    "plt.figure(figsize=(10, 6))\n",
    "\n",
    "# Додаємо дані на графік (роки на осі X, середня зарплата в Україні на осі Y)\n",
    "plt.plot(data['Рік'], data['В національній валюті'], marker='o')\n",
    "\n",
    "# Додаємо назви осей та заголовок\n",
    "plt.xlabel('Рік')\n",
    "plt.ylabel('Середня зарплата в Україні (грн)')\n",
    "plt.title('Зарплата в Україні за роками')\n",
    "\n",
    "# Відображення графіку\n",
    "plt.show()"
   ]
  },
  {
   "cell_type": "markdown",
   "metadata": {},
   "source": [
    "Завдання 14. Видаліть останній рік з таблиці та виведіть оновлену таблицю. "
   ]
  },
  {
   "cell_type": "code",
   "execution_count": 94,
   "metadata": {},
   "outputs": [
    {
     "name": "stdout",
     "output_type": "stream",
     "text": [
      "     Рік  В національній валюті  В доларах США\n",
      "0   1992                5832.88     216.032593\n",
      "1   1993              163533.00    6056.777778\n",
      "2   1994             1426343.00   52827.518519\n",
      "3   1995             7304000.00  270518.518519\n",
      "4   1996                 125.23       4.638148\n",
      "5   1997                 143.09       5.299630\n",
      "6   1998                 152.83       5.660370\n",
      "7   1999                 177.39       6.570000\n",
      "8   2000                 231.04       8.557037\n",
      "9   2001                 311.62      11.541481\n",
      "10  2002                 375.98      13.925185\n",
      "11  2003                 462.58      17.132593\n",
      "12  2004                 590.53      21.871481\n",
      "13  2005                 806.14      29.857037\n",
      "14  2006                1042.88      38.625185\n",
      "15  2007                1352.75      50.101852\n",
      "16  2008                1808.92      66.997037\n",
      "17  2009                1909.25      70.712963\n",
      "18  2010                2246.75      83.212963\n",
      "19  2011                2639.17      97.747037\n",
      "20  2012                3031.92     112.293333\n",
      "21  2013                3273.82     121.252593\n",
      "22  2014                3474.75     128.694444\n",
      "23  2015                4207.33     155.827037\n",
      "24  2016                5187.33     192.123333\n",
      "25  2017                7105.42     263.163704\n",
      "26  2018                8867.33     328.419630\n",
      "27  2019               10503.75     389.027778\n",
      "28  2020               11596.60     429.503704\n",
      "29  2021               14017.80     519.177778\n",
      "30  2022               13376.21     495.415185\n"
     ]
    }
   ],
   "source": [
    "# Видалення останнього року\n",
    "data.drop(data.index[-1], axis=0, inplace=True)\n",
    "\n",
    "# Виведення оновленої таблиці\n",
    "print(data)"
   ]
  },
  {
   "cell_type": "markdown",
   "metadata": {},
   "source": [
    "Завдання 15. Побудуйте графік, що відображає середню зарплату в Україні в розрізі років без останнього року. "
   ]
  },
  {
   "cell_type": "code",
   "execution_count": 98,
   "metadata": {},
   "outputs": [
    {
     "data": {
      "image/png": "[encoded data removed]",
      "text/plain": [
       "<Figure size 1000x600 with 1 Axes>"
      ]
     },
     "metadata": {},
     "output_type": "display_data"
    }
   ],
   "source": [
    "import matplotlib.pyplot as plt\n",
    "\n",
    "# Створення графіку\n",
    "plt.figure(figsize=(10, 6))\n",
    "\n",
    "# Додаємо дані на графік (роки на осі X, середня зарплата в Україні на осі Y)\n",
    "plt.plot(data['Рік'], data['В національній валюті'], marker='o')\n",
    "\n",
    "# Додаємо назви осей та заголовок\n",
    "plt.xlabel('Рік')\n",
    "plt.ylabel('Середня зарплата в Україні (грн)')\n",
    "plt.title('Зарплата в Україні за роками (без останнього року)')\n",
    "\n",
    "# Відображення графіку\n",
    "plt.show()"
   ]
  },
  {
   "cell_type": "markdown",
   "metadata": {},
   "source": [
    "Завдання 16. Обчисліть зарплату за останні два роки і порівняйте її із зарплатою за останні 5 років. Вкажіть, чи є різниця, і в якому напрямку."
   ]
  },
  {
   "cell_type": "code",
   "execution_count": 100,
   "metadata": {},
   "outputs": [
    {
     "name": "stdout",
     "output_type": "stream",
     "text": [
      "Середня зарплата за останні два роки вище, ніж за останні 5 років.\n"
     ]
    }
   ],
   "source": [
    "# Обчислюємо середню зарплату за останні два роки\n",
    "average_salary_last_two_years = data['В національній валюті'][-2:].mean()\n",
    "\n",
    "# Обчислюємо середню зарплату за останні 5 років\n",
    "average_salary_last_five_years = data['В національній валюті'][-5:].mean()\n",
    "\n",
    "# Порівнюємо середні зарплати\n",
    "if average_salary_last_two_years > average_salary_last_five_years:\n",
    "    print(f\"Середня зарплата за останні два роки вище, ніж за останні 5 років.\")\n",
    "elif average_salary_last_two_years < average_salary_last_five_years:\n",
    "    print(f\"Середня зарплата за останні два роки нижче, ніж за останні 5 років.\")\n",
    "else:\n",
    "    print(f\"Середня зарплата за останні два роки дорівнює середній зарплаті за останні 5 років.\")"
   ]
  },
  {
   "cell_type": "markdown",
   "metadata": {},
   "source": [
    "Висновок:\n",
    "При виконанні даної практичної роботи я використовував мову програмування Python та бібліотеку NumPy для зчитуання таблиці і аналізу її даних. Також була використана бібліотека matplotlib.pyplot для побудови графіків."
   ]
  }
 ],
 "metadata": {
  "kernelspec": {
   "display_name": "Python 3",
   "language": "python",
   "name": "python3"
  },
  "language_info": {
   "codemirror_mode": {
    "name": "ipython",
    "version": 3
   },
   "file_extension": ".py",
   "mimetype": "text/x-python",
   "name": "python",
   "nbconvert_exporter": "python",
   "pygments_lexer": "ipython3",
   "version": "3.11.5"
  },
  "orig_nbformat": 4
 },
 "nbformat": 4,
 "nbformat_minor": 2
}
