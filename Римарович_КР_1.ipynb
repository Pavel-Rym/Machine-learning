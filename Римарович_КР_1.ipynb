{
 "cells": [
  {
   "cell_type": "code",
   "execution_count": 14,
   "id": "24be5df5",
   "metadata": {},
   "outputs": [],
   "source": [
    "import pandas as pd\n",
    "import matplotlib.pyplot as plt\n",
    "import numpy as np"
   ]
  },
  {
   "cell_type": "code",
   "execution_count": 15,
   "id": "6942fd21",
   "metadata": {},
   "outputs": [],
   "source": [
    "# 1. Прочитайте CSV файл\n",
    "file_path = 'Global YouTube Statistics.csv'\n",
    "df = pd.read_csv(file_path, encoding='latin1')"
   ]
  },
  {
   "cell_type": "code",
   "execution_count": 16,
   "id": "1bf26369",
   "metadata": {},
   "outputs": [
    {
     "name": "stdout",
     "output_type": "stream",
     "text": [
      "   rank                    Youtuber  subscribers   video views  \\\n",
      "0     1                    T-Series    245000000  2.280000e+11   \n",
      "1     2              YouTube Movies    170000000  0.000000e+00   \n",
      "2     3                     MrBeast    166000000  2.836884e+10   \n",
      "3     4  Cocomelon - Nursery Rhymes    162000000  1.640000e+11   \n",
      "4     5                   SET India    159000000  1.480000e+11   \n",
      "\n",
      "           category                       Title  uploads        Country  \\\n",
      "0             Music                    T-Series    20082          India   \n",
      "1  Film & Animation               youtubemovies        1  United States   \n",
      "2     Entertainment                     MrBeast      741  United States   \n",
      "3         Education  Cocomelon - Nursery Rhymes      966  United States   \n",
      "4             Shows                   SET India   116536          India   \n",
      "\n",
      "  Abbreviation   channel_type  ...  subscribers_for_last_30_days  \\\n",
      "0           IN          Music  ...                     2000000.0   \n",
      "1           US          Games  ...                           NaN   \n",
      "2           US  Entertainment  ...                     8000000.0   \n",
      "3           US      Education  ...                     1000000.0   \n",
      "4           IN  Entertainment  ...                     1000000.0   \n",
      "\n",
      "   created_year  created_month  created_date  \\\n",
      "0        2006.0            Mar          13.0   \n",
      "1        2006.0            Mar           5.0   \n",
      "2        2012.0            Feb          20.0   \n",
      "3        2006.0            Sep           1.0   \n",
      "4        2006.0            Sep          20.0   \n",
      "\n",
      "   Gross tertiary education enrollment (%)    Population  Unemployment rate  \\\n",
      "0                                     28.1  1.366418e+09               5.36   \n",
      "1                                     88.2  3.282395e+08              14.70   \n",
      "2                                     88.2  3.282395e+08              14.70   \n",
      "3                                     88.2  3.282395e+08              14.70   \n",
      "4                                     28.1  1.366418e+09               5.36   \n",
      "\n",
      "   Urban_population   Latitude  Longitude  \n",
      "0       471031528.0  20.593684  78.962880  \n",
      "1       270663028.0  37.090240 -95.712891  \n",
      "2       270663028.0  37.090240 -95.712891  \n",
      "3       270663028.0  37.090240 -95.712891  \n",
      "4       471031528.0  20.593684  78.962880  \n",
      "\n",
      "[5 rows x 28 columns]\n"
     ]
    }
   ],
   "source": [
    "# 2. Виведіть перші п'ять рядків\n",
    "print(df.head())"
   ]
  },
  {
   "cell_type": "code",
   "execution_count": 17,
   "id": "b7c09354",
   "metadata": {},
   "outputs": [
    {
     "name": "stdout",
     "output_type": "stream",
     "text": [
      "Розмір датасету: (995, 28)\n",
      "Пропуски:\n",
      "rank                                         0\n",
      "Youtuber                                     0\n",
      "subscribers                                  0\n",
      "video views                                  0\n",
      "category                                    46\n",
      "Title                                        0\n",
      "uploads                                      0\n",
      "Country                                    122\n",
      "Abbreviation                               122\n",
      "channel_type                                30\n",
      "video_views_rank                             1\n",
      "country_rank                               116\n",
      "channel_type_rank                           33\n",
      "video_views_for_the_last_30_days            56\n",
      "lowest_monthly_earnings                      0\n",
      "highest_monthly_earnings                     0\n",
      "lowest_yearly_earnings                       0\n",
      "highest_yearly_earnings                      0\n",
      "subscribers_for_last_30_days               337\n",
      "created_year                                 5\n",
      "created_month                                5\n",
      "created_date                                 5\n",
      "Gross tertiary education enrollment (%)    123\n",
      "Population                                 123\n",
      "Unemployment rate                          123\n",
      "Urban_population                           123\n",
      "Latitude                                   123\n",
      "Longitude                                  123\n",
      "dtype: int64\n",
      "Дублікати: 0\n"
     ]
    }
   ],
   "source": [
    "# 3. Виведіть розміри датасету, перевірте наявність пропусків, дублікатів\n",
    "print(f\"Розмір датасету: {df.shape}\")\n",
    "print(f\"Пропуски:\\n{df.isnull().sum()}\")\n",
    "print(f\"Дублікати: {df.duplicated().sum()}\")"
   ]
  },
  {
   "cell_type": "code",
   "execution_count": 27,
   "id": "277bc890",
   "metadata": {},
   "outputs": [],
   "source": [
    "# 4. Якщо є пропуски, замініть тип даних на float і середнє значення за стовпцем\n",
    "numeric_columns = df.select_dtypes(include=[np.number]).columns\n",
    "df[numeric_columns] = df[numeric_columns].apply(pd.to_numeric, errors='coerce')\n",
    "\n",
    "df[numeric_columns] = df[numeric_columns].apply(lambda x: x.fillna(x.mean()) if np.issubdtype(x.dtype, np.number) else x)\n",
    "\n",
    "non_numeric_columns = df.select_dtypes(exclude=[np.number]).columns\n",
    "df[non_numeric_columns] = df[non_numeric_columns].fillna('Unknown')"
   ]
  },
  {
   "cell_type": "code",
   "execution_count": 28,
   "id": "425390d0",
   "metadata": {},
   "outputs": [
    {
     "name": "stdout",
     "output_type": "stream",
     "text": [
      "Пропуски після заповнення:\n",
      "rank                                       0\n",
      "Youtuber                                   0\n",
      "subscribers                                0\n",
      "video views                                0\n",
      "category                                   0\n",
      "Title                                      0\n",
      "uploads                                    0\n",
      "Country                                    0\n",
      "Abbreviation                               0\n",
      "channel_type                               0\n",
      "video_views_rank                           0\n",
      "country_rank                               0\n",
      "channel_type_rank                          0\n",
      "video_views_for_the_last_30_days           0\n",
      "lowest_monthly_earnings                    0\n",
      "highest_monthly_earnings                   0\n",
      "lowest_yearly_earnings                     0\n",
      "highest_yearly_earnings                    0\n",
      "subscribers_for_last_30_days               0\n",
      "created_year                               0\n",
      "created_month                              0\n",
      "created_date                               0\n",
      "Gross tertiary education enrollment (%)    0\n",
      "Population                                 0\n",
      "Unemployment rate                          0\n",
      "Urban_population                           0\n",
      "Latitude                                   0\n",
      "Longitude                                  0\n",
      "dtype: int64\n"
     ]
    }
   ],
   "source": [
    "# 5. Ще раз перевірте кількість пропусків\n",
    "print(f\"Пропуски після заповнення:\\n{df.isnull().sum()}\")"
   ]
  },
  {
   "cell_type": "code",
   "execution_count": 29,
   "id": "9cfcd32c",
   "metadata": {},
   "outputs": [
    {
     "name": "stdout",
     "output_type": "stream",
     "text": [
      "Унікальні країни: 50\n"
     ]
    }
   ],
   "source": [
    "# 6. Перевірте, скільки унікальних країн представлено у колонці \"Country\"\n",
    "unique_countries = df['Country'].nunique()\n",
    "print(f\"Унікальні країни: {unique_countries}\")"
   ]
  },
  {
   "cell_type": "code",
   "execution_count": 33,
   "metadata": {},
   "outputs": [
    {
     "data": {
      "image/png": "[encoded data removed]",
      "text/plain": [
       "<Figure size 640x480 with 1 Axes>"
      ]
     },
     "metadata": {},
     "output_type": "display_data"
    }
   ],
   "source": [
    "df['video views'].plot(kind='hist', bins=20, title='Розподіл переглядів')\n",
    "plt.show()"
   ]
  },
  {
   "cell_type": "code",
   "execution_count": 36,
   "metadata": {},
   "outputs": [
    {
     "name": "stdout",
     "output_type": "stream",
     "text": [
      "Максимальна кількість переглядів: 228000000000.0\n",
      "Мінімальна кількість переглядів: 0.0\n",
      "Середня кількість переглядів: 11039537052.03819\n"
     ]
    }
   ],
   "source": [
    "print(f\"Максимальна кількість переглядів: {df['video views'].max()}\")\n",
    "print(f\"Мінімальна кількість переглядів: {df['video views'].min()}\")\n",
    "print(f\"Середня кількість переглядів: {df['video views'].mean()}\")"
   ]
  },
  {
   "cell_type": "code",
   "execution_count": 38,
   "metadata": {},
   "outputs": [
    {
     "name": "stdout",
     "output_type": "stream",
     "text": [
      "Країна з найбільшою кількістю завантажень: India\n"
     ]
    }
   ],
   "source": [
    "# 9. Знайдіть країну, де найбільше відео було завантажено на YouTube\n",
    "most_uploaded_country = df.loc[df['uploads'].idxmax(), 'Country']\n",
    "print(f\"Країна з найбільшою кількістю завантажень: {most_uploaded_country}\")"
   ]
  },
  {
   "cell_type": "code",
   "execution_count": 41,
   "metadata": {},
   "outputs": [
    {
     "name": "stdout",
     "output_type": "stream",
     "text": [
      "Відео з найбільшою кількістю завантажень: ABP NEWS\n",
      "Відео з найменшою кількістю завантажень: Music\n"
     ]
    }
   ],
   "source": [
    "# 10. Знайдіть відео з найбільшою та найменшою кількістю завантажень\n",
    "max_uploads_video = df.loc[df['uploads'].idxmax(), 'Title']\n",
    "min_uploads_video = df.loc[df['uploads'].idxmin(), 'Title']\n",
    "print(f\"Відео з найбільшою кількістю завантажень: {max_uploads_video}\")\n",
    "print(f\"Відео з найменшою кількістю завантажень: {min_uploads_video}\")"
   ]
  }
 ],
 "metadata": {
  "kernelspec": {
   "display_name": "Python 3 (ipykernel)",
   "language": "python",
   "name": "python3"
  },
  "language_info": {
   "codemirror_mode": {
    "name": "ipython",
    "version": 3
   },
   "file_extension": ".py",
   "mimetype": "text/x-python",
   "name": "python",
   "nbconvert_exporter": "python",
   "pygments_lexer": "ipython3",
   "version": "3.11.5"
  }
 },
 "nbformat": 4,
 "nbformat_minor": 5
}
