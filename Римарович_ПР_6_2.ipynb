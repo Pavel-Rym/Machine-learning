{
 "cells": [
  {
   "cell_type": "markdown",
   "metadata": {},
   "source": [
    "Крок 1: Завантаження та розділення набору даних"
   ]
  },
  {
   "cell_type": "code",
   "execution_count": 13,
   "metadata": {},
   "outputs": [],
   "source": [
    "from sklearn.datasets import load_breast_cancer\n",
    "from sklearn.model_selection import train_test_split\n",
    "\n",
    "# Завантаження даних\n",
    "breast_cancer = load_breast_cancer()\n",
    "X = breast_cancer.data\n",
    "y = breast_cancer.target\n",
    "\n",
    "# Розділення даних на тренувальний та тестовий набори (70% тренувальний, 30% тестовий)\n",
    "X_train, X_test, y_train, y_test = train_test_split(X, y, test_size=0.3, random_state=42)"
   ]
  },
  {
   "cell_type": "markdown",
   "metadata": {},
   "source": [
    "Тепер ми можемо застосувати алгоритми SVM та Random Forest для визначення важливих ознак. Потім побудуємо графік або таблицю, щоб показати важливість кожної ознаки в аналізі."
   ]
  },
  {
   "cell_type": "markdown",
   "metadata": {},
   "source": [
    "Крок 2: Визначення важливих ознак за допомогою SVM"
   ]
  },
  {
   "cell_type": "code",
   "execution_count": 14,
   "metadata": {},
   "outputs": [
    {
     "name": "stdout",
     "output_type": "stream",
     "text": [
      "Важливість ознак за допомогою SVM:\n",
      "mean radius: Важлива\n",
      "mean texture: Не важлива\n",
      "mean perimeter: Не важлива\n",
      "mean area: Не важлива\n",
      "mean smoothness: Не важлива\n",
      "mean compactness: Не важлива\n",
      "mean concavity: Важлива\n",
      "mean concave points: Не важлива\n",
      "mean symmetry: Не важлива\n",
      "mean fractal dimension: Не важлива\n",
      "radius error: Не важлива\n",
      "texture error: Важлива\n",
      "perimeter error: Важлива\n",
      "area error: Не важлива\n",
      "smoothness error: Не важлива\n",
      "compactness error: Не важлива\n",
      "concavity error: Не важлива\n",
      "concave points error: Не важлива\n",
      "symmetry error: Не важлива\n",
      "fractal dimension error: Не важлива\n",
      "worst radius: Не важлива\n",
      "worst texture: Не важлива\n",
      "worst perimeter: Не важлива\n",
      "worst area: Не важлива\n",
      "worst smoothness: Важлива\n",
      "worst compactness: Важлива\n",
      "worst concavity: Важлива\n",
      "worst concave points: Важлива\n",
      "worst symmetry: Важлива\n",
      "worst fractal dimension: Не важлива\n"
     ]
    }
   ],
   "source": [
    "from sklearn.svm import SVC\n",
    "from sklearn.feature_selection import SelectFromModel\n",
    "\n",
    "# Створення та навчання моделі SVM\n",
    "svm_model = SVC(kernel='linear')\n",
    "svm_model.fit(X_train, y_train)\n",
    "\n",
    "# Визначення важливих ознак\n",
    "svm_feature_importance = SelectFromModel(svm_model, prefit=True).get_support()\n",
    "\n",
    "# Побудова таблиці для показу важливості кожної ознаки\n",
    "svm_feature_table = {breast_cancer.feature_names[i]: svm_feature_importance[i] for i in range(len(breast_cancer.feature_names))}\n",
    "\n",
    "print(\"Важливість ознак за допомогою SVM:\")\n",
    "for feature, importance in svm_feature_table.items():\n",
    "    print(f\"{feature}: {'Важлива' if importance else 'Не важлива'}\")"
   ]
  },
  {
   "cell_type": "markdown",
   "metadata": {},
   "source": [
    "Крок 3: Визначення важливих ознак за допомогою Random Forest:"
   ]
  },
  {
   "cell_type": "code",
   "execution_count": 15,
   "metadata": {},
   "outputs": [
    {
     "name": "stdout",
     "output_type": "stream",
     "text": [
      "\n",
      "Важливість ознак за допомогою Random Forest:\n",
      "mean radius: 0.0396\n",
      "mean texture: 0.0141\n",
      "mean perimeter: 0.0622\n",
      "mean area: 0.0344\n",
      "mean smoothness: 0.0076\n",
      "mean compactness: 0.0065\n",
      "mean concavity: 0.0339\n",
      "mean concave points: 0.1299\n",
      "mean symmetry: 0.0046\n",
      "mean fractal dimension: 0.0038\n",
      "radius error: 0.0161\n",
      "texture error: 0.0054\n",
      "perimeter error: 0.0167\n",
      "area error: 0.0693\n",
      "smoothness error: 0.0086\n",
      "compactness error: 0.0047\n",
      "concavity error: 0.0043\n",
      "concave points error: 0.0059\n",
      "symmetry error: 0.0040\n",
      "fractal dimension error: 0.0049\n",
      "worst radius: 0.0891\n",
      "worst texture: 0.0139\n",
      "worst perimeter: 0.1397\n",
      "worst area: 0.0615\n",
      "worst smoothness: 0.0124\n",
      "worst compactness: 0.0184\n",
      "worst concavity: 0.0545\n",
      "worst concave points: 0.1104\n",
      "worst symmetry: 0.0197\n",
      "worst fractal dimension: 0.0041\n"
     ]
    }
   ],
   "source": [
    "from sklearn.ensemble import RandomForestClassifier\n",
    "\n",
    "# Створення та навчання моделі Random Forest\n",
    "rf_model = RandomForestClassifier()\n",
    "rf_model.fit(X_train, y_train)\n",
    "\n",
    "# Визначення важливих ознак\n",
    "rf_feature_importance = rf_model.feature_importances_\n",
    "\n",
    "# Побудова таблиці для показу важливості кожної ознаки\n",
    "rf_feature_table = {breast_cancer.feature_names[i]: rf_feature_importance[i] for i in range(len(breast_cancer.feature_names))}\n",
    "\n",
    "print(\"\\nВажливість ознак за допомогою Random Forest:\")\n",
    "for feature, importance in rf_feature_table.items():\n",
    "    print(f\"{feature}: {importance:.4f}\")"
   ]
  },
  {
   "cell_type": "markdown",
   "metadata": {},
   "source": [
    "Крок 4: Обчислення точності обох алгоритмів і порівняння їх результатів:"
   ]
  },
  {
   "cell_type": "code",
   "execution_count": 16,
   "metadata": {},
   "outputs": [
    {
     "name": "stdout",
     "output_type": "stream",
     "text": [
      "Точність SVM: 0.9649122807017544\n",
      "Точність Random Forest: 0.9707602339181286\n",
      "Модель Random Forest має кращу точність.\n"
     ]
    }
   ],
   "source": [
    "from sklearn.metrics import accuracy_score\n",
    "\n",
    "# Прогнозування класів для SVM\n",
    "y_pred_svm = svm_model.predict(X_test)\n",
    "\n",
    "# Прогнозування класів для Random Forest\n",
    "y_pred_rf = rf_model.predict(X_test)\n",
    "\n",
    "# Визначення точності для SVM та Random Forest\n",
    "accuracy_svm = accuracy_score(y_test, y_pred_svm)\n",
    "accuracy_rf = accuracy_score(y_test, y_pred_rf)\n",
    "\n",
    "# Виведення точності\n",
    "print(f\"Точність SVM: {accuracy_svm}\")\n",
    "print(f\"Точність Random Forest: {accuracy_rf}\")\n",
    "\n",
    "if accuracy_svm > accuracy_rf:\n",
    "    print(\"Модель SVM має кращу точність.\")\n",
    "elif accuracy_rf > accuracy_svm:\n",
    "    print(\"Модель Random Forest має кращу точність.\")\n",
    "else:\n",
    "    print(\"Обидві моделі мають однакову точність.\")"
   ]
  },
  {
   "cell_type": "markdown",
   "metadata": {},
   "source": [
    "Висновки:"
   ]
  },
  {
   "cell_type": "markdown",
   "metadata": {},
   "source": [
    "- Random Forest показав кращу точність у цьому конкретному наборі даних про рак молочної залози. Це може свідчити про те, що ансамблеві методи, такі як Random Forest, можуть бути ефективні для цього типу завдань.\n",
    "- Важливість ознак може варіюватися в залежності від вибору алгоритму та специфіки набору даних.\n",
    "- Обидва методи, SVM та Random Forest, виявилися ефективними для цього конкретного завдання класифікації раку молочної залози, проте Random Forest показав кращий результат у цьому випадку."
   ]
  }
 ],
 "metadata": {
  "kernelspec": {
   "display_name": "Python 3",
   "language": "python",
   "name": "python3"
  },
  "language_info": {
   "codemirror_mode": {
    "name": "ipython",
    "version": 3
   },
   "file_extension": ".py",
   "mimetype": "text/x-python",
   "name": "python",
   "nbconvert_exporter": "python",
   "pygments_lexer": "ipython3",
   "version": "3.11.5"
  }
 },
 "nbformat": 4,
 "nbformat_minor": 2
}
