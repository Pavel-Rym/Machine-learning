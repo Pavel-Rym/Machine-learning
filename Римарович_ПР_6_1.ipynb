{
 "cells": [
  {
   "cell_type": "markdown",
   "metadata": {},
   "source": [
    "Крок 1: Завантаження та розділення набору даних\n",
    "\n",
    "Спочатку ми завантажимо набір даних Iris та розділимо його на тренувальний та тестовий набори."
   ]
  },
  {
   "cell_type": "code",
   "execution_count": 1,
   "metadata": {},
   "outputs": [],
   "source": [
    "from sklearn.datasets import load_iris\n",
    "from sklearn.model_selection import train_test_split\n",
    "\n",
    "# Завантаження даних\n",
    "iris = load_iris()\n",
    "X = iris.data\n",
    "y = iris.target\n",
    "\n",
    "# Розділення даних на тренувальний та тестовий набори (70% тренувальний, 30% тестовий)\n",
    "X_train, X_test, y_train, y_test = train_test_split(X, y, test_size=0.3, random_state=42)"
   ]
  },
  {
   "cell_type": "markdown",
   "metadata": {},
   "source": [
    "Крок 2: Застосування SVM для класифікації\n",
    "\n",
    "Тепер ми використаємо алгоритм SVM для класифікації даних та визначимо його точність."
   ]
  },
  {
   "cell_type": "code",
   "execution_count": 2,
   "metadata": {},
   "outputs": [
    {
     "name": "stdout",
     "output_type": "stream",
     "text": [
      "Точність SVM: 1.0\n"
     ]
    }
   ],
   "source": [
    "from sklearn.svm import SVC\n",
    "from sklearn.metrics import accuracy_score\n",
    "\n",
    "# Створення та навчання моделі SVM\n",
    "svm_model = SVC()\n",
    "svm_model.fit(X_train, y_train)\n",
    "\n",
    "# Прогнозування класів на тестовому наборі\n",
    "y_pred_svm = svm_model.predict(X_test)\n",
    "\n",
    "# Визначення точності\n",
    "accuracy_svm = accuracy_score(y_test, y_pred_svm)\n",
    "print(f\"Точність SVM: {accuracy_svm}\")"
   ]
  },
  {
   "cell_type": "markdown",
   "metadata": {},
   "source": [
    "Крок 3: Застосування Random Forest для класифікації\n",
    "\n",
    "Тепер ми використаємо алгоритм Random Forest для класифікації даних та визначимо його точність."
   ]
  },
  {
   "cell_type": "code",
   "execution_count": 3,
   "metadata": {},
   "outputs": [
    {
     "name": "stdout",
     "output_type": "stream",
     "text": [
      "Точність Random Forest: 1.0\n"
     ]
    }
   ],
   "source": [
    "from sklearn.ensemble import RandomForestClassifier\n",
    "\n",
    "# Створення та навчання моделі Random Forest\n",
    "rf_model = RandomForestClassifier()\n",
    "rf_model.fit(X_train, y_train)\n",
    "\n",
    "# Прогнозування класів на тестовому наборі\n",
    "y_pred_rf = rf_model.predict(X_test)\n",
    "\n",
    "# Визначення точності\n",
    "accuracy_rf = accuracy_score(y_test, y_pred_rf)\n",
    "print(f\"Точність Random Forest: {accuracy_rf}\")"
   ]
  },
  {
   "cell_type": "markdown",
   "metadata": {},
   "source": [
    "Крок 4: Порівняння результатів та обговорення\n",
    "\n",
    "Зараз ви можете порівняти точність обох алгоритмів та обговорити їхню ефективність."
   ]
  },
  {
   "cell_type": "code",
   "execution_count": 4,
   "metadata": {},
   "outputs": [
    {
     "name": "stdout",
     "output_type": "stream",
     "text": [
      "Точність SVM: 1.0\n",
      "Точність Random Forest: 1.0\n",
      "Обидві моделі мають однакову точність.\n"
     ]
    }
   ],
   "source": [
    "print(f\"Точність SVM: {accuracy_svm}\")\n",
    "print(f\"Точність Random Forest: {accuracy_rf}\")\n",
    "\n",
    "# Обговорення результатів\n",
    "if accuracy_svm > accuracy_rf:\n",
    "    print(\"Модель SVM має кращу точність.\")\n",
    "elif accuracy_rf > accuracy_svm:\n",
    "    print(\"Модель Random Forest має кращу точність.\")\n",
    "else:\n",
    "    print(\"Обидві моделі мають однакову точність.\")"
   ]
  }
 ],
 "metadata": {
  "kernelspec": {
   "display_name": "Python 3",
   "language": "python",
   "name": "python3"
  },
  "language_info": {
   "codemirror_mode": {
    "name": "ipython",
    "version": 3
   },
   "file_extension": ".py",
   "mimetype": "text/x-python",
   "name": "python",
   "nbconvert_exporter": "python",
   "pygments_lexer": "ipython3",
   "version": "3.11.5"
  }
 },
 "nbformat": 4,
 "nbformat_minor": 2
}
